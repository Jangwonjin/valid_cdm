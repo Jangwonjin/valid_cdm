{
 "cells": [
  {
   "cell_type": "code",
   "execution_count": 1,
   "metadata": {},
   "outputs": [],
   "source": [
    "import numpy as np\n",
    "import pickle\n",
    "from matplotlib import pyplot as plt\n",
    "%matplotlib inline\n",
    "%load_ext autoreload\n",
    "%autoreload 2"
   ]
  },
  {
   "cell_type": "code",
   "execution_count": 2,
   "metadata": {},
   "outputs": [],
   "source": [
    "with open('Qmat_0.pickle','rb') as f:\n",
    "    Q0 = pickle.load(f)\n",
    "    \n",
    "with open('Qmat_1.pickle','rb') as f:\n",
    "    Q1 = pickle.load(f)\n",
    "\n",
    "with open('Qmat_2.pickle','rb') as f:\n",
    "    Q2 = pickle.load(f)\n",
    "\n",
    "with open('Qmat_3.pickle','rb') as f:\n",
    "    Q3 = pickle.load(f)\n",
    "\n",
    "with open('Qmat_4.pickle','rb') as f:\n",
    "    Q4 = pickle.load(f)\n",
    "\n",
    "with open('Qmat_5.pickle','rb') as f:\n",
    "    Q5 = pickle.load(f)\n",
    "\n",
    "with open('Qmat_6.pickle','rb') as f:\n",
    "    Q6 = pickle.load(f)\n",
    "    \n",
    "with open('Qmat_7.pickle','rb') as f:\n",
    "    Q7 = pickle.load(f)"
   ]
  },
  {
   "cell_type": "code",
   "execution_count": 20,
   "metadata": {},
   "outputs": [],
   "source": [
    "input_matrix = Q7"
   ]
  },
  {
   "cell_type": "code",
   "execution_count": 21,
   "metadata": {},
   "outputs": [
    {
     "data": {
      "image/png": "[encoded data removed]",
      "text/plain": [
       "<Figure size 720x576 with 1 Axes>"
      ]
     },
     "metadata": {
      "needs_background": "light"
     },
     "output_type": "display_data"
    }
   ],
   "source": [
    "plt.figure(figsize=(10, 8))\n",
    "im = plt.imshow(1 - input_matrix,\n",
    "                interpolation='none', vmin=0, vmax=1, aspect='equal', cmap = 'gray')\n",
    "\n",
    "ax = plt.gca();\n",
    "\n",
    "ax.set_xticks(np.arange(0, 7, 1))\n",
    "ax.set_yticks(np.arange(0, input_matrix.shape[0], 1))\n",
    "\n",
    "# Labels for major ticks\n",
    "ax.set_xticklabels(np.arange(1, input_matrix.shape[1] + 1, 1))\n",
    "ax.set_yticklabels(np.arange(1, input_matrix.shape[0] + 1, 1))\n",
    "\n",
    "# Minor ticks\n",
    "ax.set_xticks(np.arange(-.5, input_matrix.shape[1], 1), minor=True)\n",
    "ax.set_yticks(np.arange(-.5, input_matrix.shape[0], 1), minor=True)\n",
    "\n",
    "# Gridlines based on minor ticks\n",
    "ax.grid(which='minor', color='w', linestyle='-', linewidth=2)"
   ]
  },
  {
   "cell_type": "code",
   "execution_count": null,
   "metadata": {},
   "outputs": [],
   "source": []
  }
 ],
 "metadata": {
  "kernelspec": {
   "display_name": "Python 3",
   "language": "python",
   "name": "python3"
  },
  "language_info": {
   "codemirror_mode": {
    "name": "ipython",
    "version": 3
   },
   "file_extension": ".py",
   "mimetype": "text/x-python",
   "name": "python",
   "nbconvert_exporter": "python",
   "pygments_lexer": "ipython3",
   "version": "3.6.9"
  }
 },
 "nbformat": 4,
 "nbformat_minor": 2
}
