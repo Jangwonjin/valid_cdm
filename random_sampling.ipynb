{
 "cells": [
  {
   "cell_type": "code",
   "execution_count": 1,
   "metadata": {},
   "outputs": [],
   "source": [
    "import numpy as np\n",
    "import pandas as pd\n",
    "import random\n",
    "from tqdm import tqdm\n",
    "from math import *\n",
    "from matplotlib import pyplot as plt\n",
    "from design import *\n",
    "%matplotlib inline\n",
    "%load_ext autoreload\n",
    "%autoreload 2"
   ]
  },
  {
   "cell_type": "code",
   "execution_count": 2,
   "metadata": {},
   "outputs": [],
   "source": [
    "real_response = np.array(pd.read_excel('../data/Qdata.xlsx').drop(columns=['ID','area','sex','total']))"
   ]
  },
  {
   "cell_type": "code",
   "execution_count": 3,
   "metadata": {},
   "outputs": [],
   "source": [
    "Qmat = np.array(pd.read_excel('../data/Qmatrix_koh.xlsx', header=None).drop(columns=[7,8]))"
   ]
  },
  {
   "cell_type": "markdown",
   "metadata": {},
   "source": [
    "------------------------------------------------------------"
   ]
  },
  {
   "cell_type": "code",
   "execution_count": 4,
   "metadata": {},
   "outputs": [],
   "source": [
    "attribute_num = 7"
   ]
  },
  {
   "cell_type": "code",
   "execution_count": 5,
   "metadata": {},
   "outputs": [],
   "source": [
    "graph = Graph(attribute_num)"
   ]
  },
  {
   "cell_type": "code",
   "execution_count": 6,
   "metadata": {},
   "outputs": [],
   "source": [
    "graph.addEdge(0,1)\n",
    "graph.addEdge(0,2)\n",
    "graph.addEdge(0,4)\n",
    "graph.addEdge(1,3)\n",
    "graph.addEdge(1,5)\n",
    "graph.addEdge(2,3)\n",
    "graph.addEdge(2,6)"
   ]
  },
  {
   "cell_type": "code",
   "execution_count": 7,
   "metadata": {},
   "outputs": [],
   "source": [
    "A_matrix = np.array(graph.adjacencyMatrix)\n",
    "I_matrix = np.identity(attribute_num)\n",
    "\n",
    "arr = A_matrix + I_matrix\n",
    "\n",
    "Q_matrix = make_all_concept_state_mat(attribute_num)[1:].T"
   ]
  },
  {
   "cell_type": "code",
   "execution_count": 8,
   "metadata": {},
   "outputs": [],
   "source": [
    "tmp = np.dot(arr,arr)\n",
    "\n",
    "for i in range(tmp.shape[0]):\n",
    "    for j in range(tmp.shape[1]):\n",
    "        if tmp[i][j] >= 1 :\n",
    "            tmp[i][j] = 1\n",
    "        else :\n",
    "            continue\n",
    "            \n",
    "R_matrix = tmp"
   ]
  },
  {
   "cell_type": "code",
   "execution_count": 9,
   "metadata": {},
   "outputs": [],
   "source": [
    "for attribute in range(R_matrix.shape[1]):\n",
    "    for item in range(Q_matrix.shape[1]):\n",
    "        if Q_matrix[:,item][attribute] == 1:\n",
    "            for i in np.where(R_matrix[:,attribute] == 1)[0]:\n",
    "                Q_matrix[:,item][i] = 1"
   ]
  },
  {
   "cell_type": "code",
   "execution_count": 10,
   "metadata": {},
   "outputs": [
    {
     "data": {
      "text/plain": [
       "(26, 7)"
      ]
     },
     "execution_count": 10,
     "metadata": {},
     "output_type": "execute_result"
    }
   ],
   "source": [
    "Qr_matrix = np.unique(Q_matrix.T, axis=0)\n",
    "\n",
    "Qr_matrix.shape"
   ]
  },
  {
   "cell_type": "markdown",
   "metadata": {},
   "source": [
    "----------------------------------------------------------------------------------"
   ]
  },
  {
   "cell_type": "code",
   "execution_count": 11,
   "metadata": {},
   "outputs": [],
   "source": [
    "concept_state = make_all_concept_state_mat(attribute_num)"
   ]
  },
  {
   "cell_type": "code",
   "execution_count": 12,
   "metadata": {},
   "outputs": [],
   "source": [
    "ideal_response = sorted(list(set(map(tuple, make_ideal_response(concept_state, Qr_matrix.T)))))"
   ]
  },
  {
   "cell_type": "markdown",
   "metadata": {},
   "source": [
    "---------------------------------------------------------------"
   ]
  },
  {
   "cell_type": "code",
   "execution_count": 13,
   "metadata": {},
   "outputs": [],
   "source": [
    "all_hamming_dists = list()\n",
    "\n",
    "for item in range(Qr_matrix.shape[0]):\n",
    "    all_hamming_dists.append(calc_hamming_dist(Qmat, Qr_matrix[item]))"
   ]
  },
  {
   "cell_type": "markdown",
   "metadata": {},
   "source": [
    "-----------------------------------------------------------"
   ]
  },
  {
   "cell_type": "code",
   "execution_count": 14,
   "metadata": {},
   "outputs": [],
   "source": [
    "iteration = 1500"
   ]
  },
  {
   "cell_type": "code",
   "execution_count": null,
   "metadata": {
    "scrolled": true
   },
   "outputs": [
    {
     "name": "stderr",
     "output_type": "stream",
     "text": [
      " 85%|████████▌ | 1281/1500 [04:30<00:45,  4.78it/s]"
     ]
    }
   ],
   "source": [
    "cost = calc_cost(real_response, ideal_response, Qr_matrix, get_index(Qr_matrix, all_hamming_dists, iteration), iteration)"
   ]
  },
  {
   "cell_type": "code",
   "execution_count": null,
   "metadata": {
    "scrolled": true
   },
   "outputs": [],
   "source": [
    "cum_std = [np.std(cost[:i]) for i in tqdm(range(1, iteration + 1))]\n",
    "cum_mean = [np.mean(cost[:i]) for i in tqdm(range(1, iteration + 1))]"
   ]
  },
  {
   "cell_type": "code",
   "execution_count": null,
   "metadata": {},
   "outputs": [],
   "source": [
    "cum_mean[-1]"
   ]
  },
  {
   "cell_type": "code",
   "execution_count": null,
   "metadata": {},
   "outputs": [],
   "source": []
  },
  {
   "cell_type": "code",
   "execution_count": null,
   "metadata": {},
   "outputs": [],
   "source": []
  },
  {
   "cell_type": "code",
   "execution_count": null,
   "metadata": {},
   "outputs": [],
   "source": []
  }
 ],
 "metadata": {
  "kernelspec": {
   "display_name": "Python 3",
   "language": "python",
   "name": "python3"
  },
  "language_info": {
   "codemirror_mode": {
    "name": "ipython",
    "version": 3
   },
   "file_extension": ".py",
   "mimetype": "text/x-python",
   "name": "python",
   "nbconvert_exporter": "python",
   "pygments_lexer": "ipython3",
   "version": "3.6.9"
  }
 },
 "nbformat": 4,
 "nbformat_minor": 2
}
