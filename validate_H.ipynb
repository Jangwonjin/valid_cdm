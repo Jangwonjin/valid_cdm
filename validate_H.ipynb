{
 "cells": [
  {
   "cell_type": "code",
   "execution_count": 31,
   "metadata": {},
   "outputs": [
    {
     "name": "stdout",
     "output_type": "stream",
     "text": [
      "The autoreload extension is already loaded. To reload it, use:\n",
      "  %reload_ext autoreload\n"
     ]
    }
   ],
   "source": [
    "import numpy as np\n",
    "import pandas as pd\n",
    "import random\n",
    "from tqdm import tqdm\n",
    "from math import *\n",
    "from matplotlib import pyplot as plt\n",
    "from ahm import *\n",
    "%matplotlib inline\n",
    "%load_ext autoreload\n",
    "%autoreload 2"
   ]
  },
  {
   "cell_type": "markdown",
   "metadata": {},
   "source": [
    "## load data"
   ]
  },
  {
   "cell_type": "code",
   "execution_count": 2,
   "metadata": {},
   "outputs": [
    {
     "data": {
      "text/plain": [
       "array([[1, 0, 0, 0, 0, 0, 0],\n",
       "       [0, 1, 0, 0, 0, 0, 0],\n",
       "       [1, 0, 0, 0, 0, 0, 0],\n",
       "       [1, 0, 0, 0, 0, 0, 0],\n",
       "       [1, 0, 0, 0, 0, 0, 0],\n",
       "       [1, 0, 0, 0, 1, 0, 0],\n",
       "       [0, 1, 0, 0, 0, 0, 0],\n",
       "       [1, 0, 0, 0, 1, 0, 0],\n",
       "       [1, 1, 0, 0, 1, 0, 0],\n",
       "       [1, 0, 1, 0, 0, 0, 1],\n",
       "       [1, 1, 0, 0, 1, 1, 0],\n",
       "       [0, 1, 1, 0, 0, 0, 1],\n",
       "       [1, 1, 0, 0, 1, 1, 0],\n",
       "       [0, 1, 1, 0, 0, 0, 0],\n",
       "       [1, 0, 0, 0, 1, 0, 0],\n",
       "       [0, 1, 1, 1, 0, 0, 0],\n",
       "       [0, 1, 0, 0, 0, 1, 0],\n",
       "       [1, 1, 1, 0, 1, 1, 1],\n",
       "       [1, 0, 1, 1, 1, 0, 1],\n",
       "       [1, 1, 0, 0, 1, 0, 0],\n",
       "       [1, 1, 0, 0, 1, 0, 0],\n",
       "       [1, 1, 1, 1, 1, 0, 0],\n",
       "       [1, 1, 0, 0, 1, 0, 0],\n",
       "       [1, 1, 0, 0, 1, 1, 0],\n",
       "       [1, 0, 0, 0, 1, 0, 0],\n",
       "       [0, 1, 0, 0, 0, 0, 0],\n",
       "       [0, 1, 1, 1, 0, 0, 1],\n",
       "       [0, 1, 0, 0, 0, 0, 0],\n",
       "       [1, 0, 1, 0, 1, 0, 0],\n",
       "       [1, 1, 1, 0, 1, 1, 0]])"
      ]
     },
     "execution_count": 2,
     "metadata": {},
     "output_type": "execute_result"
    }
   ],
   "source": [
    "item_attribute = pd.read_csv('data/item_attribute.csv', header=None)\n",
    "# Qmat = pd.read_excel('data/Qmatrix_koh.xlsx', header=None).drop(columns=[7,8])\n",
    "# Qmat.to_csv('data/item_attribute.csv', index=None, header=None)\n",
    "item_attribute = np.array(item_attribute)\n",
    "item_attribute"
   ]
  },
  {
   "cell_type": "code",
   "execution_count": 3,
   "metadata": {},
   "outputs": [],
   "source": [
    "real_response = np.array(pd.read_csv('data/response.csv').drop(columns=['ID','area','sex','total']))\n",
    "# real_response = np.array(pd.read_excel('data/Qdata.xlsx').drop(columns=['ID','area','sex','total']))"
   ]
  },
  {
   "cell_type": "code",
   "execution_count": 4,
   "metadata": {},
   "outputs": [],
   "source": [
    "# convert to csv\n",
    "# real_response = pd.read_excel('data/Qdata.xlsx')\n",
    "# real_response.to_csv('data/response.csv', index=None)"
   ]
  },
  {
   "cell_type": "markdown",
   "metadata": {},
   "source": [
    "------------------------------------------------------------"
   ]
  },
  {
   "cell_type": "code",
   "execution_count": null,
   "metadata": {},
   "outputs": [],
   "source": []
  },
  {
   "cell_type": "code",
   "execution_count": 5,
   "metadata": {},
   "outputs": [],
   "source": [
    "attribute_num = 7"
   ]
  },
  {
   "cell_type": "code",
   "execution_count": 6,
   "metadata": {},
   "outputs": [],
   "source": [
    "graph = Graph(attribute_num)"
   ]
  },
  {
   "cell_type": "code",
   "execution_count": 7,
   "metadata": {},
   "outputs": [],
   "source": [
    "graph.add_edge(0,1)\n",
    "graph.add_edge(0,2)\n",
    "graph.add_edge(0,4)\n",
    "graph.add_edge(1,3)\n",
    "graph.add_edge(1,5)\n",
    "graph.add_edge(2,3)\n",
    "graph.add_edge(2,6)"
   ]
  },
  {
   "cell_type": "code",
   "execution_count": 8,
   "metadata": {},
   "outputs": [
    {
     "name": "stdout",
     "output_type": "stream",
     "text": [
      "[[0 1 1 0 1 0 0]\n",
      " [0 0 0 1 0 1 0]\n",
      " [0 0 0 1 0 0 1]\n",
      " [0 0 0 0 0 0 0]\n",
      " [0 0 0 0 0 0 0]\n",
      " [0 0 0 0 0 0 0]\n",
      " [0 0 0 0 0 0 0]]\n"
     ]
    }
   ],
   "source": [
    "A = np.array(graph.adjacency_matrix)\n",
    "print(A)"
   ]
  },
  {
   "cell_type": "code",
   "execution_count": 9,
   "metadata": {},
   "outputs": [
    {
     "name": "stdout",
     "output_type": "stream",
     "text": [
      "[[1 1 1 1 1 1 1]\n",
      " [0 1 0 1 0 1 0]\n",
      " [0 0 1 1 0 0 1]\n",
      " [0 0 0 1 0 0 0]\n",
      " [0 0 0 0 1 0 0]\n",
      " [0 0 0 0 0 1 0]\n",
      " [0 0 0 0 0 0 1]]\n"
     ]
    }
   ],
   "source": [
    "R = calc_reachability(A)\n",
    "print(R)"
   ]
  },
  {
   "cell_type": "code",
   "execution_count": 10,
   "metadata": {},
   "outputs": [],
   "source": [
    "# Q = calc_Q(R, False)\n",
    "# print(Q.shape)\n",
    "# Qr = calc_Q(R, True)\n",
    "# print(Qr.shape)"
   ]
  },
  {
   "cell_type": "code",
   "execution_count": 34,
   "metadata": {},
   "outputs": [
    {
     "name": "stdout",
     "output_type": "stream",
     "text": [
      "(27, 7)\n",
      "[[0 0 0 0 0 0 0]\n",
      " [1 0 0 0 0 0 0]\n",
      " [1 0 0 0 1 0 0]\n",
      " [1 0 1 0 0 0 0]\n",
      " [1 0 1 0 0 0 1]\n",
      " [1 0 1 0 1 0 0]\n",
      " [1 0 1 0 1 0 1]\n",
      " [1 1 0 0 0 0 0]\n",
      " [1 1 0 0 0 1 0]\n",
      " [1 1 0 0 1 0 0]\n",
      " [1 1 0 0 1 1 0]\n",
      " [1 1 1 0 0 0 0]\n",
      " [1 1 1 0 0 0 1]\n",
      " [1 1 1 0 0 1 0]\n",
      " [1 1 1 0 0 1 1]\n",
      " [1 1 1 0 1 0 0]\n",
      " [1 1 1 0 1 0 1]\n",
      " [1 1 1 0 1 1 0]\n",
      " [1 1 1 0 1 1 1]\n",
      " [1 1 1 1 0 0 0]\n",
      " [1 1 1 1 0 0 1]\n",
      " [1 1 1 1 0 1 0]\n",
      " [1 1 1 1 0 1 1]\n",
      " [1 1 1 1 1 0 0]\n",
      " [1 1 1 1 1 0 1]\n",
      " [1 1 1 1 1 1 0]\n",
      " [1 1 1 1 1 1 1]]\n"
     ]
    }
   ],
   "source": [
    "S = calc_knowledge_states(A)\n",
    "print(S.shape)\n",
    "print(S)"
   ]
  },
  {
   "cell_type": "code",
   "execution_count": 11,
   "metadata": {},
   "outputs": [
    {
     "name": "stdout",
     "output_type": "stream",
     "text": [
      "(26, 7)\n",
      "[[1 0 0 0 0 0 0]\n",
      " [1 0 0 0 1 0 0]\n",
      " [1 0 1 0 0 0 0]\n",
      " [1 0 1 0 0 0 1]\n",
      " [1 0 1 0 1 0 0]\n",
      " [1 0 1 0 1 0 1]\n",
      " [1 1 0 0 0 0 0]\n",
      " [1 1 0 0 0 1 0]\n",
      " [1 1 0 0 1 0 0]\n",
      " [1 1 0 0 1 1 0]\n",
      " [1 1 1 0 0 0 0]\n",
      " [1 1 1 0 0 0 1]\n",
      " [1 1 1 0 0 1 0]\n",
      " [1 1 1 0 0 1 1]\n",
      " [1 1 1 0 1 0 0]\n",
      " [1 1 1 0 1 0 1]\n",
      " [1 1 1 0 1 1 0]\n",
      " [1 1 1 0 1 1 1]\n",
      " [1 1 1 1 0 0 0]\n",
      " [1 1 1 1 0 0 1]\n",
      " [1 1 1 1 0 1 0]\n",
      " [1 1 1 1 0 1 1]\n",
      " [1 1 1 1 1 0 0]\n",
      " [1 1 1 1 1 0 1]\n",
      " [1 1 1 1 1 1 0]\n",
      " [1 1 1 1 1 1 1]]\n"
     ]
    }
   ],
   "source": [
    "Q = calc_Q(R)\n",
    "print(Q.shape)\n",
    "print(Q)"
   ]
  },
  {
   "cell_type": "markdown",
   "metadata": {},
   "source": [
    "## calc ideal responses"
   ]
  },
  {
   "cell_type": "code",
   "execution_count": 45,
   "metadata": {},
   "outputs": [
    {
     "data": {
      "text/plain": [
       "(27, (26, 7))"
      ]
     },
     "execution_count": 45,
     "metadata": {},
     "output_type": "execute_result"
    }
   ],
   "source": [
    "ideal_responses = calc_ideal_responses(Q, S)\n",
    "len(ideal_responses), Q.shape"
   ]
  },
  {
   "cell_type": "markdown",
   "metadata": {},
   "source": [
    "## calc distances to idr"
   ]
  },
  {
   "cell_type": "code",
   "execution_count": 51,
   "metadata": {},
   "outputs": [
    {
     "data": {
      "text/plain": [
       "[0,\n",
       " 2,\n",
       " 0,\n",
       " 0,\n",
       " 0,\n",
       " 1,\n",
       " 2,\n",
       " 1,\n",
       " 2,\n",
       " 2,\n",
       " 3,\n",
       " 4,\n",
       " 3,\n",
       " 3,\n",
       " 1,\n",
       " 4,\n",
       " 3,\n",
       " 5,\n",
       " 4,\n",
       " 2,\n",
       " 2,\n",
       " 4,\n",
       " 2,\n",
       " 3,\n",
       " 1,\n",
       " 2,\n",
       " 5,\n",
       " 2,\n",
       " 2,\n",
       " 4]"
      ]
     },
     "execution_count": 51,
     "metadata": {},
     "output_type": "execute_result"
    }
   ],
   "source": [
    "all_hamming_dists = list()\n",
    "\n",
    "for item in range(Q.shape[0]):\n",
    "    all_hamming_dists.append(calc_hamming_dist(item_attribute, Q[item]))\n",
    "all_hamming_dists[0]"
   ]
  },
  {
   "cell_type": "markdown",
   "metadata": {},
   "source": [
    "-----------------------------------------------------------"
   ]
  },
  {
   "cell_type": "code",
   "execution_count": 64,
   "metadata": {},
   "outputs": [
    {
     "data": {
      "text/plain": [
       "(977, 27)"
      ]
     },
     "execution_count": 64,
     "metadata": {},
     "output_type": "execute_result"
    }
   ],
   "source": [
    "len(real_response), len(ideal_responses)"
   ]
  },
  {
   "cell_type": "code",
   "execution_count": 52,
   "metadata": {},
   "outputs": [],
   "source": [
    "iteration = 1500"
   ]
  },
  {
   "cell_type": "code",
   "execution_count": 53,
   "metadata": {
    "scrolled": true
   },
   "outputs": [
    {
     "name": "stderr",
     "output_type": "stream",
     "text": [
      "100%|██████████| 1500/1500 [05:56<00:00,  4.20it/s]\n"
     ]
    }
   ],
   "source": [
    "cost = calc_cost(real_response, ideal_responses, Q, get_index(Q, all_hamming_dists, iteration), iteration)"
   ]
  },
  {
   "cell_type": "code",
   "execution_count": 59,
   "metadata": {
    "scrolled": true
   },
   "outputs": [
    {
     "name": "stderr",
     "output_type": "stream",
     "text": [
      "100%|██████████| 1500/1500 [00:00<00:00, 17225.96it/s]\n",
      "100%|██████████| 1500/1500 [00:00<00:00, 27767.04it/s]\n"
     ]
    }
   ],
   "source": [
    "cum_std = [np.std(cost[:i]) for i in tqdm(range(1, iteration + 1))]\n",
    "cum_mean = [np.mean(cost[:i]) for i in tqdm(range(1, iteration + 1))]"
   ]
  },
  {
   "cell_type": "code",
   "execution_count": 60,
   "metadata": {},
   "outputs": [
    {
     "data": {
      "text/plain": [
       "0.1929968506416818"
      ]
     },
     "execution_count": 60,
     "metadata": {},
     "output_type": "execute_result"
    }
   ],
   "source": [
    "cum_mean[-1]"
   ]
  },
  {
   "cell_type": "code",
   "execution_count": 66,
   "metadata": {},
   "outputs": [
    {
     "data": {
      "text/plain": [
       "((977, 30), (27, 26))"
      ]
     },
     "execution_count": 66,
     "metadata": {},
     "output_type": "execute_result"
    }
   ],
   "source": [
    "np.array(real_response).shape, np.array(ideal_responses).shape"
   ]
  },
  {
   "cell_type": "code",
   "execution_count": 67,
   "metadata": {},
   "outputs": [
    {
     "data": {
      "text/plain": [
       "(26, 7)"
      ]
     },
     "execution_count": 67,
     "metadata": {},
     "output_type": "execute_result"
    }
   ],
   "source": [
    "Q.shape"
   ]
  },
  {
   "cell_type": "code",
   "execution_count": 69,
   "metadata": {},
   "outputs": [
    {
     "data": {
      "text/plain": [
       "(27, 7)"
      ]
     },
     "execution_count": 69,
     "metadata": {},
     "output_type": "execute_result"
    }
   ],
   "source": [
    "S.shape"
   ]
  },
  {
   "cell_type": "markdown",
   "metadata": {},
   "source": [
    "## visualization"
   ]
  },
  {
   "cell_type": "code",
   "execution_count": 119,
   "metadata": {},
   "outputs": [
    {
     "name": "stdout",
     "output_type": "stream",
     "text": [
      "[t-SNE] Computing 26 nearest neighbors...\n",
      "[t-SNE] Indexed 27 samples in 0.000s...\n",
      "[t-SNE] Computed neighbors for 27 samples in 0.001s...\n",
      "[t-SNE] Computed conditional probabilities for sample 27 / 27\n",
      "[t-SNE] Mean sigma: 1125899906842624.000000\n",
      "[t-SNE] KL divergence after 250 iterations with early exaggeration: 46.941689\n",
      "[t-SNE] KL divergence after 300 iterations: 0.635311\n"
     ]
    }
   ],
   "source": [
    "from sklearn.manifold import TSNE\n",
    "\n",
    "tsne = TSNE(n_components=2, verbose=1, perplexity=40, n_iter=300)\n",
    "tsne_results = tsne.fit_transform(ideal_responses)"
   ]
  },
  {
   "cell_type": "code",
   "execution_count": 129,
   "metadata": {},
   "outputs": [
    {
     "data": {
      "image/png": "[encoded data removed]",
      "text/plain": [
       "<Figure size 576x360 with 1 Axes>"
      ]
     },
     "metadata": {
      "needs_background": "light"
     },
     "output_type": "display_data"
    }
   ],
   "source": [
    "plt.figure(figsize=(8,5))\n",
    "plt.scatter(tsne_results[:,0], tsne_results[:,1], c='k')\n",
    "# plt.scatter(tsne_results[0,0], tsne_results[0,1], c='k')\n",
    "# plt.scatter(tsne_results[-1,0], tsne_results[-1,1], c='r')\n",
    "\n",
    "plt.savefig(\"idr.pdf\", \n",
    "               bbox_inches='tight', \n",
    "               transparent=True,\n",
    "               pad_inches=0)"
   ]
  },
  {
   "cell_type": "code",
   "execution_count": 89,
   "metadata": {},
   "outputs": [
    {
     "data": {
      "text/plain": [
       "(26, 1)"
      ]
     },
     "execution_count": 89,
     "metadata": {},
     "output_type": "execute_result"
    }
   ],
   "source": [
    "mapping_index = get_index(Q, all_hamming_dists, 1)\n",
    "mapping_index.shape"
   ]
  },
  {
   "cell_type": "code",
   "execution_count": 85,
   "metadata": {},
   "outputs": [],
   "source": [
    "response = real_response"
   ]
  },
  {
   "cell_type": "code",
   "execution_count": 90,
   "metadata": {},
   "outputs": [],
   "source": [
    "mapping_response_data = np.zeros((response.shape[0], Q.shape[0]))\n",
    "\n",
    "for j in range(Q.shape[0]):\n",
    "    mapping_response_data[:, j] = response[:, int(mapping_index[:, 0][j])]"
   ]
  },
  {
   "cell_type": "code",
   "execution_count": 91,
   "metadata": {},
   "outputs": [
    {
     "data": {
      "text/plain": [
       "(977, 26)"
      ]
     },
     "execution_count": 91,
     "metadata": {},
     "output_type": "execute_result"
    }
   ],
   "source": [
    "mapping_response_data.shape"
   ]
  },
  {
   "cell_type": "code",
   "execution_count": 115,
   "metadata": {},
   "outputs": [],
   "source": [
    "data = np.row_stack([mapping_response_data[::4], ideal_responses])"
   ]
  },
  {
   "cell_type": "code",
   "execution_count": 116,
   "metadata": {},
   "outputs": [
    {
     "name": "stdout",
     "output_type": "stream",
     "text": [
      "[t-SNE] Computing 121 nearest neighbors...\n",
      "[t-SNE] Indexed 272 samples in 0.000s...\n",
      "[t-SNE] Computed neighbors for 272 samples in 0.007s...\n",
      "[t-SNE] Computed conditional probabilities for sample 272 / 272\n",
      "[t-SNE] Mean sigma: 1.114252\n",
      "[t-SNE] KL divergence after 250 iterations with early exaggeration: 56.608963\n",
      "[t-SNE] KL divergence after 300 iterations: 0.308971\n"
     ]
    }
   ],
   "source": [
    "tsne_results = tsne.fit_transform(data)"
   ]
  },
  {
   "cell_type": "code",
   "execution_count": 117,
   "metadata": {},
   "outputs": [
    {
     "data": {
      "text/plain": [
       "<matplotlib.collections.PathCollection at 0x7f84152b9a10>"
      ]
     },
     "execution_count": 117,
     "metadata": {},
     "output_type": "execute_result"
    },
    {
     "data": {
      "image/png": "[encoded data removed]",
      "text/plain": [
       "<Figure size 432x288 with 1 Axes>"
      ]
     },
     "metadata": {
      "needs_background": "light"
     },
     "output_type": "display_data"
    }
   ],
   "source": [
    "num_responses = mapping_response_data[::4].shape[0]\n",
    "plt.scatter(tsne_results[:num_responses,0], tsne_results[:num_responses,1])\n",
    "plt.scatter(tsne_results[num_responses:,0], tsne_results[num_responses:,1], c='r')"
   ]
  },
  {
   "cell_type": "code",
   "execution_count": null,
   "metadata": {},
   "outputs": [],
   "source": []
  }
 ],
 "metadata": {
  "kernelspec": {
   "display_name": "Python 3",
   "language": "python",
   "name": "python3"
  },
  "language_info": {
   "codemirror_mode": {
    "name": "ipython",
    "version": 3
   },
   "file_extension": ".py",
   "mimetype": "text/x-python",
   "name": "python",
   "nbconvert_exporter": "python",
   "pygments_lexer": "ipython3",
   "version": "3.7.9"
  }
 },
 "nbformat": 4,
 "nbformat_minor": 2
}
